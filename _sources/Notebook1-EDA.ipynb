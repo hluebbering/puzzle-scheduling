{
 "cells": [
  {
   "cell_type": "code",
   "execution_count": 2,
   "id": "ba38325e",
   "metadata": {
    "tags": [
     "remove_input"
    ]
   },
   "outputs": [],
   "source": [
    "import pandas as pd\n",
    "import numpy as np\n",
    "import matplotlib.pyplot as plt\n",
    "import seaborn as sns\n",
    "from IPython.display import set_matplotlib_formats\n",
    "pd.set_option('display.max_colwidth', None)\n",
    "\n",
    "sns.set(style=\"whitegrid\")\n",
    "sns.set_context(\"poster\", font_scale=.5, rc={\"grid.linewidth\": 0.6})\n",
    "sns.set_style({'font.family': 'Roboto'})\n",
    "# jupyter-book clean ./ --all\n",
    "# jupyter-book build ./\n",
    "# ghp-import -n -p -f _build/html"
   ]
  },
  {
   "attachments": {},
   "cell_type": "markdown",
   "id": "f8751081",
   "metadata": {},
   "source": [
    "# 1. Preliminary Data Analysis\n",
    "\n",
    "Performing a preliminary data analysis is crucial to gaining a better understanding of the data and making necessary cleaning adjustments. During this step, we will explore the following questions:\n",
    "\n",
    "1. Does the packname follow a consistent pattern?\n",
    "2. What is the distribution of hold times?\n",
    "3. Is there a clear relationship between difficulty rating and piece counts?\n",
    "\n",
    "We'll be taking a look at the data sets member_hold_times_and_packs.tsv and packs.tsv."
   ]
  },
  {
   "cell_type": "code",
   "execution_count": 3,
   "id": "acba7993",
   "metadata": {},
   "outputs": [],
   "source": [
    "# Importing Libraries\n",
    "import pandas as pd\n",
    "import numpy as np\n",
    "import matplotlib.pyplot as plt\n",
    "import seaborn as sns\n",
    "\n",
    "import warnings\n",
    "warnings.filterwarnings(\"ignore\")"
   ]
  },
  {
   "attachments": {},
   "cell_type": "markdown",
   "id": "56fe7f1f",
   "metadata": {},
   "source": [
    "### 1.1 Members Data\n",
    "\n",
    "- `memberID` - Unique identifiers for each person\n",
    "- `holdtime` - number of days the person had the pack\n",
    "- `puzzlepack` - name of the pack (may have more than 1 puzzle per pack)\n"
   ]
  },
  {
   "cell_type": "code",
   "execution_count": null,
   "id": "7056a50a",
   "metadata": {},
   "outputs": [],
   "source": [
    "member_holdtime_df = pd.read_csv('data/member_hold_times_and_packs_Feb16_2023.tsv',\n",
    "                                 sep='\\t', header=None)\n",
    "member_holdtime_df.columns = ['memberID', 'holdtime', 'puzzlepack']\n",
    "member_holdtime_df.shape"
   ]
  },
  {
   "cell_type": "code",
   "execution_count": null,
   "id": "19da5020",
   "metadata": {},
   "outputs": [],
   "source": [
    "## Does packname have a pattern?\n",
    "member_holdtime_df.head()"
   ]
  },
  {
   "cell_type": "markdown",
   "id": "624ca8c7",
   "metadata": {},
   "source": [
    "**Comments**:\n",
    "- Observe the extra space at the end of \"cats \". This shows it has this pack has only one puzzle.\n",
    "- other strings have the word \"Puzzles\" twice while 'Diana Zimens City Of Cats ' has it only once. \n",
    "- Looks like the first word is a brand or something, then the word \"puzzle\" and the name of puzzle. For example -\n",
    "    * DaVici, **Puzzles** Full Moon Feast DaVici **Puzzles** World&#39;s Greatest Miracle \n",
    "    * DaVici, **Puzzles** Flying Frigate DaVici **Puzzles** Hobby Horse\n",
    "    * Liberty, **Puzzles** Haeckel Hummingbirds Nautilus **Puzzles** Mother Adams\n",
    "    * DaVici, **Puzzles** Diana Zimens City Of Cats \n"
   ]
  },
  {
   "cell_type": "code",
   "execution_count": null,
   "id": "48b5b15d",
   "metadata": {
    "tags": [
     "hide_code",
     "hide_input"
    ]
   },
   "outputs": [],
   "source": [
    "## What is the distribution for holdtimes?\n",
    "plt.figure(figsize = (12,5))\n",
    "plt.title(\"Figure 1. Distribution of Hold Times\", weight='heavy',y =1.1, x=0.16).set_fontsize('18')\n",
    "z = sns.histplot(data=member_holdtime_df, x=\"holdtime\", color=\"#F9C762\", alpha = 1.0, bins = 50)\n",
    "sns.despine(left=True, bottom=False)\n",
    "z.spines['bottom'].set_color('#DDDDDD')\n",
    "z.yaxis.grid(True, color='#EEEEEE')\n",
    "z.xaxis.grid(False)\n",
    "plt.xlabel(\"Hold Time\", size=17, weight=500)\n",
    "plt.ylabel(\"Frequency\", size=17, weight=500)\n",
    "plt.tight_layout()\n",
    "# plt.savefig(\"_static/images/hold_times_dist.png\", format=\"png\", dpi=1200)\n",
    "plt.show()"
   ]
  },
  {
   "cell_type": "code",
   "execution_count": null,
   "id": "4b6d47c5",
   "metadata": {},
   "outputs": [],
   "source": [
    "fig, axs = plt.subplots(1, 2, figsize=(15, 5))\n",
    "sns.histplot(data=member_holdtime_df, x=member_holdtime_df.loc[member_holdtime_df['holdtime'] <= 150]['holdtime'], bins = 20,color=\"#ffa07a\", alpha = 1.0, ax=axs[0])\n",
    "axs[0].set_title(\"Holdtime up to 5 months\")\n",
    "sns.histplot(data=member_holdtime_df, x=member_holdtime_df.loc[member_holdtime_df['holdtime'] > 151]['holdtime'], bins = 20, color=\"#FB607F\", alpha = 0.9, ax=axs[1])\n",
    "axs[1].set_title(\"Holdtime over 5 months\")\n",
    "fig.tight_layout()\n",
    "#plt.savefig(\"_static/images/hold_times_dist2.png\", format=\"png\", dpi=1200)\n",
    "plt.show()"
   ]
  },
  {
   "cell_type": "code",
   "execution_count": null,
   "id": "8fb03088",
   "metadata": {
    "tags": [
     "hide_input"
    ]
   },
   "outputs": [],
   "source": [
    "# Distribution of member hold times value counts\n",
    "plt.figure(figsize = (10,5))\n",
    "plt.title(\"Figure 2. Puzzle Packs per Member\", weight='heavy',y =1.1, x=0.16).set_fontsize('18')\n",
    "z=sns.histplot(data=member_holdtime_df['memberID'].value_counts().reset_index(name='freq'), x='freq', bins = 20, color=\"#FF3D4D\", alpha = 0.9)\n",
    "sns.despine(left=True, bottom=False)\n",
    "z.spines['bottom'].set_color('#DDDDDD')\n",
    "z.yaxis.grid(True, color='#EEEEEE')\n",
    "z.xaxis.grid(False)\n",
    "plt.xlabel(\"Count of Members\", size=17, weight=500)\n",
    "plt.ylabel(\"Count of Puzzle Packs\", size=17, weight=500)\n",
    "plt.tight_layout()\n",
    "# plt.savefig(\"_static/images/members_dist2.png\", format=\"png\", dpi=1200)\n",
    "plt.show()"
   ]
  },
  {
   "attachments": {},
   "cell_type": "markdown",
   "id": "337b5a72",
   "metadata": {},
   "source": [
    "### 1.2 Packs Data\n",
    "\n",
    "* `pack_name` - name of the pack (may have more than 1 puzzle per pack)\n",
    "* `brand` - brand name of puzzle pack\n",
    "* `piece_count` - number of pieces in puzzle\n",
    "* `difficulty_rating` - difficulty rating for puzzle"
   ]
  },
  {
   "cell_type": "code",
   "execution_count": null,
   "id": "967568c6",
   "metadata": {},
   "outputs": [],
   "source": [
    "packs_df = pd.read_csv('data/packs_Feb16_2023.tsv', sep='\\t', header=None)\n",
    "packs_df.columns = ['pack_name', 'brand', 'piece_count', 'difficulty_rating']\n",
    "packs_df.shape"
   ]
  },
  {
   "cell_type": "code",
   "execution_count": null,
   "id": "5ad01723",
   "metadata": {},
   "outputs": [],
   "source": [
    "packs_df.head()"
   ]
  },
  {
   "cell_type": "markdown",
   "id": "5184e279",
   "metadata": {},
   "source": [
    "Separate columns into `piece_count_1`, `piece_count_2`, `difficulty_rating_1`, `difficulty_rating_2`"
   ]
  },
  {
   "cell_type": "code",
   "execution_count": null,
   "id": "e50e82a4",
   "metadata": {},
   "outputs": [],
   "source": [
    "# making two coulmns for piece count\n",
    "packs_df['piece_count_1'] = packs_df['piece_count'].str.split(',', expand=True)[0]\n",
    "packs_df['piece_count_2'] = packs_df['piece_count'].str.split(',', expand=True)[1]\n",
    "\n",
    "# making two columns for difficulty\n",
    "packs_df['difficulty_rating_1'] = packs_df['difficulty_rating'].str.split(',', expand=True)[0]\n",
    "packs_df['difficulty_rating_2'] = packs_df['difficulty_rating'].str.split(',', expand=True)[1]"
   ]
  },
  {
   "cell_type": "code",
   "execution_count": null,
   "id": "336f5308",
   "metadata": {
    "tags": [
     "hide_input"
    ]
   },
   "outputs": [],
   "source": [
    "# creating temporary dataframe with no missing values for analysis\n",
    "packs_df_temp_1 = packs_df.dropna(axis=0, subset = ['piece_count_1', 'difficulty_rating_1'])\n",
    "packs_df_temp_2 = packs_df.dropna(axis=0, subset = ['piece_count_2', 'difficulty_rating_2'])\n",
    "packs_df_temp_1.piece_count_1 = packs_df_temp_1.piece_count_1.astype('int')\n",
    "packs_df_temp_2.piece_count_2 = packs_df_temp_2.piece_count_2.astype('int')\n",
    "packs_df.difficulty_rating.unique()"
   ]
  },
  {
   "cell_type": "code",
   "execution_count": null,
   "id": "4d546bf7",
   "metadata": {
    "tags": [
     "hide_code",
     "hide_input"
    ]
   },
   "outputs": [],
   "source": [
    "# checking category-wise distribution of piece_count\n",
    "plt.figure(figsize = [12,10], dpi=100)\n",
    "color_dict = {'A-Easy':\"g\", 'Average':\"b\", 'Hard':\"c\", 'Really-Hard': \"m\"}\n",
    "\n",
    "plt.subplot(2,1,1)\n",
    "sns.boxplot(x = \"piece_count_1\", y= 'difficulty_rating_1', \n",
    "            data=packs_df_temp_1, palette = color_dict, order = ['A-Easy', 'Average', 'Hard', 'Really-Hard'])\n",
    "plt.title(\"Puzzle one distribution\")\n",
    "\n",
    "plt.subplot(2,1,2)\n",
    "sns.boxplot(x = \"piece_count_2\", y= 'difficulty_rating_2', \n",
    "            data=packs_df_temp_2, palette = color_dict, order = ['A-Easy', 'Average', 'Hard', 'Really-Hard'])\n",
    "plt.title(\"Puzzle two distribution\")\n",
    "plt.legend(loc='lower right')\n",
    "plt.show()"
   ]
  },
  {
   "cell_type": "code",
   "execution_count": null,
   "id": "3b54e442",
   "metadata": {},
   "outputs": [],
   "source": [
    "packs_df.to_csv('data/packs_df.csv', index=False)\n",
    "member_holdtime_df.to_csv('data/member_holdtime_df.csv', index=False)"
   ]
  }
 ],
 "metadata": {
  "kernelspec": {
   "display_name": "Python 3 (ipykernel)",
   "language": "python",
   "name": "python3"
  },
  "language_info": {
   "codemirror_mode": {
    "name": "ipython",
    "version": 3
   },
   "file_extension": ".py",
   "mimetype": "text/x-python",
   "name": "python",
   "nbconvert_exporter": "python",
   "pygments_lexer": "ipython3",
   "version": "3.9.12"
  },
  "vscode": {
   "interpreter": {
    "hash": "2abef46bdc448e8026b975b89e826af33f0e1e4eda83c222c2938c2a736b7647"
   }
  }
 },
 "nbformat": 4,
 "nbformat_minor": 5
}
