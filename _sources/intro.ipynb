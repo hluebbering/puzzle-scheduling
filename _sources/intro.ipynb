{
 "cells": [
  {
   "cell_type": "markdown",
   "id": "6bc7fc9b",
   "metadata": {},
   "source": [
    "# Introduction\n",
    "\n",
    "\n",
    "<p class=\"about\">\n",
    "\n",
    "`Hoefnagel` Wooden Jigsaw Puzzle Club is a company based in Port Townsend, Washington that contains a library of over 1000 **puzzles** rented by a network of puzzle enthusiasts worldwide. Their ultimate business goal is to reduce shipping costs while optimizing for consumer satisfaction. Right now, when an active member of the club finishes a puzzle, they start a return process on the site, which generates a shipping label for the user to ship this puzzle to the next user's location in the overall puzzle network. This next location is determined by a model that considers several factors, such as the puzzle's current location, the next user's location, and the puzzle's rank on the next user's wishlist. \n",
    "\n",
    "</p>\n",
    "\n",
    "\n",
    "\n",
    "```{tableofcontents}\n",
    "```\n",
    "\n",
    "\n",
    "\n",
    "Here is a \"note\" directive:\n",
    "\n",
    "```{note}\n",
    "Here is a note\n",
    "```\n",
    "\n",
    "\n",
    "Here is an inline directive to refer to a document: {doc}`eda`.\n",
    "\n",
    "\n",
    "```{seealso}\n",
    "Jupyter Book uses [Jupytext](https://jupytext.readthedocs.io/en/latest/) to convert text-based files to notebooks, and can support [many other text-based notebook files](https://jupyterbook.org/file-types/jupytext.html).\n",
    "```\n",
    "\n",
    "\n",
    "\n",
    "\n",
    "```{figure} /_static/images/difficulty_dist.png\n",
    ":scale: 3%\n",
    "```"
   ]
  },
  {
   "cell_type": "code",
   "execution_count": 1,
   "id": "1ccf62dc",
   "metadata": {},
   "outputs": [
    {
     "name": "stdout",
     "output_type": "stream",
     "text": [
      "4\n"
     ]
    }
   ],
   "source": [
    "print(2 + 2)"
   ]
  },
  {
   "cell_type": "markdown",
   "id": "5e429d72",
   "metadata": {},
   "source": [
    "## Citations\n",
    "\n",
    "You can also cite references that are stored in a `bibtex` file. For example,\n",
    "the following syntax: `` {cite}`holdgraf_evidence_2014` `` will render like\n",
    "this: {cite}`holdgraf_evidence_2014`.\n",
    "\n",
    "Moreover, you can insert a bibliography into your page with this syntax:\n",
    "The `{bibliography}` directive must be used for all the `{cite}` roles to\n",
    "render properly.\n",
    "\n",
    "\n",
    "```{bibliography}\n",
    "```"
   ]
  }
 ],
 "metadata": {
  "jupytext": {
   "formats": "md:myst",
   "text_representation": {
    "extension": ".md",
    "format_name": "myst",
    "format_version": 0.13,
    "jupytext_version": "1.11.5"
   }
  },
  "kernelspec": {
   "display_name": "Python 3",
   "language": "python",
   "name": "python3"
  },
  "language_info": {
   "codemirror_mode": {
    "name": "ipython",
    "version": 3
   },
   "file_extension": ".py",
   "mimetype": "text/x-python",
   "name": "python",
   "nbconvert_exporter": "python",
   "pygments_lexer": "ipython3",
   "version": "3.7.13"
  },
  "source_map": [
   13,
   53,
   55
  ]
 },
 "nbformat": 4,
 "nbformat_minor": 5
}